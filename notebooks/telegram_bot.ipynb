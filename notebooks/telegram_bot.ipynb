{
 "cells": [
  {
   "cell_type": "code",
   "execution_count": 1,
   "metadata": {
    "ExecuteTime": {
     "end_time": "2019-11-08T10:05:27.498356Z",
     "start_time": "2019-11-08T10:05:26.564323Z"
    }
   },
   "outputs": [
    {
     "data": {
      "text/plain": [
       "{'act': 'lock',\n",
       " 'art': 2300.121665072976,\n",
       " 'block': 8894818,\n",
       " 'deleted': False,\n",
       " 'id': 44120,\n",
       " 'ink': 29.925697539219303,\n",
       " 'ire': 2150.099444469859,\n",
       " 'lad': '0x3E103F903C035DA48706d5B2F956676188Ac34eF',\n",
       " 'pip': 183.5875,\n",
       " 'pep': 669.59875575595,\n",
       " 'per': '1.0463396950513022',\n",
       " 'ratio': 249.92475951640117,\n",
       " 'liq_price': 110.18566168988482,\n",
       " 'tab': 5748.5735400182775,\n",
       " 'time': '2019-11-08T07:11:30.000Z',\n",
       " 'timestamp': 1573197090000,\n",
       " 'arg': None,\n",
       " 'eth': None}"
      ]
     },
     "execution_count": 1,
     "metadata": {},
     "output_type": "execute_result"
    }
   ],
   "source": [
    "from bs4 import BeautifulSoup\n",
    "from requests_html import HTMLSession\n",
    "import requests\n",
    "from selectolax.parser import HTMLParser\n",
    "\n",
    "cdp_no = 44120\n",
    "resp = requests.get(f'https://mkr.tools/api/v1/cdp/{cdp_no}').json()[0]\n",
    "resp"
   ]
  },
  {
   "cell_type": "code",
   "execution_count": 2,
   "metadata": {
    "ExecuteTime": {
     "end_time": "2019-11-08T10:05:27.522275Z",
     "start_time": "2019-11-08T10:05:27.517240Z"
    }
   },
   "outputs": [
    {
     "data": {
      "text/plain": [
       "'\\ntype Cup {\\n  act: Act!            # Most recent cup action\\n  art: BigFloat!       # Outstanding debt DAI\\n  block: Int!          # Block at most recent action\\n  deleted: Boolean!    # True if the cup has been shut\\n  id: Int!             # Unique Cup Id\\n  ink: BigFloat!       # Collateral PETH\\n  ire: BigFloat!       # Collateral less fee\\n  lad: String!         # Cup owner\\n  pip: BigFloat!       # Current USD/ETH price\\n  ratio: BigFloat      # Current collateralisation ratio\\n  tab: BigFloat        # Collateral USD\\n  time: Datetime!      # Timestamp of most recent action\\n  actions: [CupAct!]   # Cup actions\\n}\\n'"
      ]
     },
     "execution_count": 2,
     "metadata": {},
     "output_type": "execute_result"
    }
   ],
   "source": [
    "# https://developer.makerdao.com/dai/1/graphql/types\n",
    "'''\n",
    "type Cup {\n",
    "  act: Act!            # Most recent cup action\n",
    "  art: BigFloat!       # Outstanding debt DAI\n",
    "  block: Int!          # Block at most recent action\n",
    "  deleted: Boolean!    # True if the cup has been shut\n",
    "  id: Int!             # Unique Cup Id\n",
    "  ink: BigFloat!       # Collateral PETH\n",
    "  ire: BigFloat!       # Collateral less fee\n",
    "  lad: String!         # Cup owner\n",
    "  pip: BigFloat!       # Current USD/ETH price\n",
    "  ratio: BigFloat      # Current collateralisation ratio\n",
    "  tab: BigFloat        # Collateral USD\n",
    "  time: Datetime!      # Timestamp of most recent action\n",
    "  actions: [CupAct!]   # Cup actions\n",
    "}\n",
    "'''"
   ]
  },
  {
   "cell_type": "markdown",
   "metadata": {
    "ExecuteTime": {
     "end_time": "2019-11-06T12:38:43.461997Z",
     "start_time": "2019-11-06T12:38:43.456524Z"
    }
   },
   "source": [
    "CDP (44120) is **SAFE** emoji\n",
    "\n",
    "**Debt**: 2,300.12 DAI\n",
    "\n",
    "**Available (Max)**: 1,685.9 DAI\n",
    "\n",
    "**Collateral**: 31.01 ETH\n",
    "\n",
    "**Free (Max)**: 13.11 ETH\n",
    "\n",
    "**ETH Price**: $192.81\n",
    "\n",
    "**Liquidation**: $111.26\n",
    "\n",
    "**Ratio**: 38.46%"
   ]
  },
  {
   "cell_type": "code",
   "execution_count": 3,
   "metadata": {
    "ExecuteTime": {
     "end_time": "2019-11-08T10:05:28.977252Z",
     "start_time": "2019-11-08T10:05:28.962435Z"
    }
   },
   "outputs": [],
   "source": [
    "import emoji\n",
    "\n",
    "msg = f\"\"\"\n",
    "CDP ({resp['id']}) is {'**SAFE** 😁' if round(100*resp['art'] / resp['tab'], 2) < 66.5 else '**RISKY** 😨'}\n",
    "**Collateral USD**: ${round(resp['tab'], 2)}\n",
    "**Debt**: {round(resp['art'], 2)} DAI\n",
    "**Available (Max)**: {round(resp['tab']*0.6665585 - resp['art'], 2)} DAI\n",
    "**Collateral**: {round(resp['ink']*float(resp['per']), 2)} ETH\n",
    "**Free (Max)**: {round(resp['ink']*float(resp['per']) - resp['art']/(0.6665585*resp['pip']), 2)} ETH\n",
    "**ETH Price**: ${round(resp['pip'], 2)}\n",
    "**Liquidation**: ${round(resp['liq_price'], 2)}\n",
    "**Ratio**: {round(100*resp['art'] / resp['tab'], 2)}%\n",
    "\"\"\""
   ]
  },
  {
   "cell_type": "code",
   "execution_count": 4,
   "metadata": {
    "ExecuteTime": {
     "end_time": "2019-11-08T10:05:29.990914Z",
     "start_time": "2019-11-08T10:05:29.986006Z"
    }
   },
   "outputs": [
    {
     "name": "stdout",
     "output_type": "stream",
     "text": [
      "\n",
      "CDP (44120) is **SAFE** 😁\n",
      "**Collateral USD**: $5748.57\n",
      "**Debt**: 2300.12 DAI\n",
      "**Available (Max)**: 1531.64 DAI\n",
      "**Collateral**: 31.31 ETH\n",
      "**Free (Max)**: 12.52 ETH\n",
      "**ETH Price**: $183.59\n",
      "**Liquidation**: $110.19\n",
      "**Ratio**: 40.01%\n",
      "\n"
     ]
    }
   ],
   "source": [
    "print(msg)"
   ]
  },
  {
   "cell_type": "code",
   "execution_count": 14,
   "metadata": {
    "ExecuteTime": {
     "end_time": "2019-11-07T08:51:34.960268Z",
     "start_time": "2019-11-07T08:51:34.534414Z"
    }
   },
   "outputs": [
    {
     "name": "stdout",
     "output_type": "stream",
     "text": [
      "\n",
      "CDP (44120) is **SAFE** 😁\n",
      "**Collateral USD**: $5885.3\n",
      "**Debt**: 2300.12 DAI\n",
      "**Available (Max)**: 1622.77 DAI\n",
      "**Collateral**: 31.02 ETH\n",
      "**Free (Max)**: 12.83 ETH\n",
      "**ETH Price**: $189.75\n",
      "**Liquidation**: $111.24\n",
      "**Ratio**: 39.08%\n",
      "\n"
     ]
    }
   ],
   "source": [
    "import requests\n",
    "\n",
    "def check_cdp(cdp_no='44120'):\n",
    "    resp = requests.get(f'https://mkr.tools/api/v1/cdp/{cdp_no}').json()[0]\n",
    "    msg = f\"\"\"\n",
    "CDP ({resp['id']}) is {'**SAFE** 😁' if round(100*resp['art'] / resp['tab'], 2) < 66.5 else '**RISKY** 😨'}\n",
    "**Collateral USD**: ${round(resp['tab'], 2)}\n",
    "**Debt**: {round(resp['art'], 2)} DAI\n",
    "**Available (Max)**: {round(resp['tab']*0.6665585 - resp['art'], 2)} DAI\n",
    "**Collateral**: {round(resp['ink']*float(resp['per']), 2)} ETH\n",
    "**Free (Max)**: {round(resp['ink']*float(resp['per']) - resp['art']/(0.6665585*resp['pip']), 2)} ETH\n",
    "**ETH Price**: ${round(resp['pip'], 2)}\n",
    "**Liquidation**: ${round(resp['liq_price'], 2)}\n",
    "**Ratio**: {round(100*resp['art'] / resp['tab'], 2)}%\n",
    "\"\"\"\n",
    "    print(msg)\n",
    "\n",
    "check_cdp()"
   ]
  },
  {
   "cell_type": "code",
   "execution_count": 15,
   "metadata": {
    "ExecuteTime": {
     "end_time": "2019-11-07T08:54:50.496380Z",
     "start_time": "2019-11-07T08:54:50.487908Z"
    }
   },
   "outputs": [],
   "source": [
    "from apscheduler.schedulers.background import BackgroundScheduler\n",
    "from apscheduler.triggers.combining import OrTrigger\n",
    "from apscheduler.triggers.cron import CronTrigger\n",
    "import requests\n",
    "\n",
    "trigger = OrTrigger([\n",
    "   CronTrigger(hour='7', minute='30-59'),\n",
    "   CronTrigger(hour='8-22', minute='*'),\n",
    "   CronTrigger(hour='23', minute='0-30')\n",
    "])\n",
    "\n",
    "def check_cdp(cdp_no=44120):\n",
    "    try:\n",
    "        resp = requests.get(f'https://mkr.tools/api/v1/cdp/{cdp_no}').json()[0]\n",
    "        msg = f\"\"\"\n",
    "CDP ({resp['id']}) is {'**SAFE** 😁' if round(100*resp['art'] / resp['tab'], 2) < 66.5 else '**RISKY** 😨'}\n",
    "**Collateral USD**: ${round(resp['tab'], 2)}\n",
    "**Debt**: {round(resp['art'], 2)} DAI\n",
    "**Available (Max)**: {round(resp['tab']*0.6665585 - resp['art'], 2)} DAI\n",
    "**Collateral**: {round(resp['ink']*float(resp['per']), 2)} ETH\n",
    "**Free (Max)**: {round(resp['ink']*float(resp['per']) - resp['art']/(0.6665585*resp['pip']), 2)} ETH\n",
    "**ETH Price**: ${round(resp['pip'], 2)}\n",
    "**Liquidation**: ${round(resp['liq_price'], 2)}\n",
    "**Ratio**: {round(100*resp['art'] / resp['tab'], 2)}%\n",
    "\"\"\"\n",
    "    except requests.exceptions.RequestException as e:\n",
    "        msg='Something went wrong! Caught requests.exceptions.RequestException.'\n",
    "    print(msg)\n",
    "\n",
    "sched = BackgroundScheduler()\n",
    "sched.add_job(check_cdp, trigger, [44120])\n",
    "sched.start()"
   ]
  }
 ],
 "metadata": {
  "hide_input": false,
  "kernelspec": {
   "display_name": "Python 3",
   "language": "python",
   "name": "python3"
  },
  "language_info": {
   "codemirror_mode": {
    "name": "ipython",
    "version": 3
   },
   "file_extension": ".py",
   "mimetype": "text/x-python",
   "name": "python",
   "nbconvert_exporter": "python",
   "pygments_lexer": "ipython3",
   "version": "3.7.3"
  },
  "toc": {
   "base_numbering": 1,
   "nav_menu": {},
   "number_sections": true,
   "sideBar": true,
   "skip_h1_title": false,
   "title_cell": "Table of Contents",
   "title_sidebar": "Contents",
   "toc_cell": false,
   "toc_position": {},
   "toc_section_display": true,
   "toc_window_display": false
  },
  "varInspector": {
   "cols": {
    "lenName": 16,
    "lenType": 16,
    "lenVar": 40
   },
   "kernels_config": {
    "python": {
     "delete_cmd_postfix": "",
     "delete_cmd_prefix": "del ",
     "library": "var_list.py",
     "varRefreshCmd": "print(var_dic_list())"
    },
    "r": {
     "delete_cmd_postfix": ") ",
     "delete_cmd_prefix": "rm(",
     "library": "var_list.r",
     "varRefreshCmd": "cat(var_dic_list()) "
    }
   },
   "types_to_exclude": [
    "module",
    "function",
    "builtin_function_or_method",
    "instance",
    "_Feature"
   ],
   "window_display": false
  }
 },
 "nbformat": 4,
 "nbformat_minor": 2
}
