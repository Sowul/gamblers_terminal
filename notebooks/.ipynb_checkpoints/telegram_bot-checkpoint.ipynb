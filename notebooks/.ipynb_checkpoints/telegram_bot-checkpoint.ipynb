{
 "cells": [
  {
   "cell_type": "code",
   "execution_count": 12,
   "metadata": {
    "ExecuteTime": {
     "end_time": "2020-02-10T06:48:02.747638Z",
     "start_time": "2020-02-10T06:47:55.577222Z"
    }
   },
   "outputs": [
    {
     "name": "stdout",
     "output_type": "stream",
     "text": [
      "Collecting APScheduler\n",
      "  Using cached https://files.pythonhosted.org/packages/f3/34/9ef20ed473c4fd2c3df54ef77a27ae3fc7500b16b192add4720cab8b2c09/APScheduler-3.6.3-py2.py3-none-any.whl\n",
      "Requirement already satisfied: emoji in c:\\users\\bsowul\\appdata\\local\\continuum\\anaconda3\\lib\\site-packages (0.5.4)\n",
      "Requirement already satisfied: requests_html in c:\\users\\bsowul\\appdata\\local\\continuum\\anaconda3\\lib\\site-packages (0.10.0)\n",
      "Requirement already satisfied: selectolax in c:\\users\\bsowul\\appdata\\local\\continuum\\anaconda3\\lib\\site-packages (0.2.3)\n",
      "Collecting tzlocal>=1.2\n",
      "  Using cached https://files.pythonhosted.org/packages/ef/99/53bd1ac9349262f59c1c421d8fcc2559ae8a5eeffed9202684756b648d33/tzlocal-2.0.0-py2.py3-none-any.whl\n",
      "Requirement already satisfied: pytz in c:\\users\\bsowul\\appdata\\local\\continuum\\anaconda3\\lib\\site-packages (from APScheduler) (2019.3)\n",
      "Requirement already satisfied: setuptools>=0.7 in c:\\users\\bsowul\\appdata\\local\\continuum\\anaconda3\\lib\\site-packages (from APScheduler) (44.0.0.post20200106)\n",
      "Requirement already satisfied: six>=1.4.0 in c:\\users\\bsowul\\appdata\\local\\continuum\\anaconda3\\lib\\site-packages (from APScheduler) (1.13.0)\n",
      "Requirement already satisfied: parse in c:\\users\\bsowul\\appdata\\local\\continuum\\anaconda3\\lib\\site-packages (from requests_html) (1.14.0)\n",
      "Requirement already satisfied: requests in c:\\users\\bsowul\\appdata\\local\\continuum\\anaconda3\\lib\\site-packages (from requests_html) (2.22.0)\n",
      "Requirement already satisfied: pyquery in c:\\users\\bsowul\\appdata\\local\\continuum\\anaconda3\\lib\\site-packages (from requests_html) (1.4.1)\n",
      "Requirement already satisfied: fake-useragent in c:\\users\\bsowul\\appdata\\local\\continuum\\anaconda3\\lib\\site-packages (from requests_html) (0.1.11)\n",
      "Requirement already satisfied: bs4 in c:\\users\\bsowul\\appdata\\local\\continuum\\anaconda3\\lib\\site-packages (from requests_html) (0.0.1)\n",
      "Requirement already satisfied: w3lib in c:\\users\\bsowul\\appdata\\local\\continuum\\anaconda3\\lib\\site-packages (from requests_html) (1.21.0)\n",
      "Requirement already satisfied: pyppeteer>=0.0.14 in c:\\users\\bsowul\\appdata\\local\\continuum\\anaconda3\\lib\\site-packages (from requests_html) (0.0.25)\n",
      "Requirement already satisfied: urllib3!=1.25.0,!=1.25.1,<1.26,>=1.21.1 in c:\\users\\bsowul\\appdata\\local\\continuum\\anaconda3\\lib\\site-packages (from requests->requests_html) (1.25.7)\n",
      "Requirement already satisfied: idna<2.9,>=2.5 in c:\\users\\bsowul\\appdata\\local\\continuum\\anaconda3\\lib\\site-packages (from requests->requests_html) (2.8)\n",
      "Requirement already satisfied: chardet<3.1.0,>=3.0.2 in c:\\users\\bsowul\\appdata\\local\\continuum\\anaconda3\\lib\\site-packages (from requests->requests_html) (3.0.4)\n",
      "Requirement already satisfied: certifi>=2017.4.17 in c:\\users\\bsowul\\appdata\\local\\continuum\\anaconda3\\lib\\site-packages (from requests->requests_html) (2019.11.28)\n",
      "Requirement already satisfied: lxml>=2.1 in c:\\users\\bsowul\\appdata\\local\\continuum\\anaconda3\\lib\\site-packages (from pyquery->requests_html) (4.4.2)\n",
      "Requirement already satisfied: cssselect>0.7.9 in c:\\users\\bsowul\\appdata\\local\\continuum\\anaconda3\\lib\\site-packages (from pyquery->requests_html) (1.1.0)\n",
      "Requirement already satisfied: beautifulsoup4 in c:\\users\\bsowul\\appdata\\local\\continuum\\anaconda3\\lib\\site-packages (from bs4->requests_html) (4.8.2)\n",
      "Requirement already satisfied: websockets in c:\\users\\bsowul\\appdata\\local\\continuum\\anaconda3\\lib\\site-packages (from pyppeteer>=0.0.14->requests_html) (8.1)\n",
      "Requirement already satisfied: appdirs in c:\\users\\bsowul\\appdata\\local\\continuum\\anaconda3\\lib\\site-packages (from pyppeteer>=0.0.14->requests_html) (1.4.3)\n",
      "Requirement already satisfied: tqdm in c:\\users\\bsowul\\appdata\\local\\continuum\\anaconda3\\lib\\site-packages (from pyppeteer>=0.0.14->requests_html) (4.40.2)\n",
      "Requirement already satisfied: pyee in c:\\users\\bsowul\\appdata\\local\\continuum\\anaconda3\\lib\\site-packages (from pyppeteer>=0.0.14->requests_html) (7.0.1)\n",
      "Requirement already satisfied: soupsieve>=1.2 in c:\\users\\bsowul\\appdata\\local\\continuum\\anaconda3\\lib\\site-packages (from beautifulsoup4->bs4->requests_html) (1.9.5)\n",
      "Installing collected packages: tzlocal, APScheduler\n",
      "Successfully installed APScheduler-3.6.3 tzlocal-2.0.0\n"
     ]
    }
   ],
   "source": [
    "!pip install APScheduler emoji requests_html selectolax"
   ]
  },
  {
   "cell_type": "code",
   "execution_count": 5,
   "metadata": {
    "ExecuteTime": {
     "end_time": "2020-02-10T06:42:05.439182Z",
     "start_time": "2020-02-10T06:42:02.857289Z"
    }
   },
   "outputs": [
    {
     "data": {
      "text/plain": [
       "{'act': 'draw',\n",
       " 'art': 3200.121665072976,\n",
       " 'block': 9442853,\n",
       " 'deleted': False,\n",
       " 'id': 44120,\n",
       " 'ink': 40.37811986192024,\n",
       " 'ire': 2953.1645030678,\n",
       " 'lad': '0x3E103F903C035DA48706d5B2F956676188Ac34eF',\n",
       " 'pip': 224.285,\n",
       " 'pep': 574.077375,\n",
       " 'per': '1.049079329511044',\n",
       " 'ratio': 296.8849361389819,\n",
       " 'liq_price': 113.31915467833196,\n",
       " 'tab': 9500.67916172163,\n",
       " 'time': '2020-02-08T15:24:02.000Z',\n",
       " 'timestamp': 1581175442000,\n",
       " 'arg': None,\n",
       " 'eth': None}"
      ]
     },
     "execution_count": 5,
     "metadata": {},
     "output_type": "execute_result"
    }
   ],
   "source": [
    "from bs4 import BeautifulSoup\n",
    "from requests_html import HTMLSession\n",
    "import requests\n",
    "from selectolax.parser import HTMLParser\n",
    "\n",
    "cdp_no = 44120\n",
    "resp = requests.get(f'https://mkr.tools/api/v1/cdp/{cdp_no}').json()[0]\n",
    "resp"
   ]
  },
  {
   "cell_type": "code",
   "execution_count": 2,
   "metadata": {
    "ExecuteTime": {
     "end_time": "2019-11-08T10:05:27.522275Z",
     "start_time": "2019-11-08T10:05:27.517240Z"
    }
   },
   "outputs": [
    {
     "data": {
      "text/plain": [
       "'\\ntype Cup {\\n  act: Act!            # Most recent cup action\\n  art: BigFloat!       # Outstanding debt DAI\\n  block: Int!          # Block at most recent action\\n  deleted: Boolean!    # True if the cup has been shut\\n  id: Int!             # Unique Cup Id\\n  ink: BigFloat!       # Collateral PETH\\n  ire: BigFloat!       # Collateral less fee\\n  lad: String!         # Cup owner\\n  pip: BigFloat!       # Current USD/ETH price\\n  ratio: BigFloat      # Current collateralisation ratio\\n  tab: BigFloat        # Collateral USD\\n  time: Datetime!      # Timestamp of most recent action\\n  actions: [CupAct!]   # Cup actions\\n}\\n'"
      ]
     },
     "execution_count": 2,
     "metadata": {},
     "output_type": "execute_result"
    }
   ],
   "source": [
    "# https://developer.makerdao.com/dai/1/graphql/types\n",
    "'''\n",
    "type Cup {\n",
    "  act: Act!            # Most recent cup action\n",
    "  art: BigFloat!       # Outstanding debt DAI\n",
    "  block: Int!          # Block at most recent action\n",
    "  deleted: Boolean!    # True if the cup has been shut\n",
    "  id: Int!             # Unique Cup Id\n",
    "  ink: BigFloat!       # Collateral PETH\n",
    "  ire: BigFloat!       # Collateral less fee\n",
    "  lad: String!         # Cup owner\n",
    "  pip: BigFloat!       # Current USD/ETH price\n",
    "  ratio: BigFloat      # Current collateralisation ratio\n",
    "  tab: BigFloat        # Collateral USD\n",
    "  time: Datetime!      # Timestamp of most recent action\n",
    "  actions: [CupAct!]   # Cup actions\n",
    "}\n",
    "'''"
   ]
  },
  {
   "cell_type": "markdown",
   "metadata": {
    "ExecuteTime": {
     "end_time": "2019-11-06T12:38:43.461997Z",
     "start_time": "2019-11-06T12:38:43.456524Z"
    }
   },
   "source": [
    "CDP (44120) is **SAFE** emoji\n",
    "\n",
    "**Debt**: 2,300.12 DAI\n",
    "\n",
    "**Available (Max)**: 1,685.9 DAI\n",
    "\n",
    "**Collateral**: 31.01 ETH\n",
    "\n",
    "**Free (Max)**: 13.11 ETH\n",
    "\n",
    "**ETH Price**: $192.81\n",
    "\n",
    "**Liquidation**: $111.26\n",
    "\n",
    "**Ratio**: 38.46%"
   ]
  },
  {
   "cell_type": "code",
   "execution_count": 8,
   "metadata": {
    "ExecuteTime": {
     "end_time": "2020-02-10T06:42:30.136069Z",
     "start_time": "2020-02-10T06:42:30.123102Z"
    }
   },
   "outputs": [],
   "source": [
    "import emoji\n",
    "\n",
    "msg = f\"\"\"\n",
    "CDP ({resp['id']}) is {'**SAFE** 😁' if round(100*resp['art'] / resp['tab'], 2) < 66.5 else '**RISKY** 😨'}\n",
    "**Collateral USD**: ${round(resp['tab'], 2)}\n",
    "**Debt**: {round(resp['art'], 2)} DAI\n",
    "**Available (Max)**: {round(resp['tab']*0.6665585 - resp['art'], 2)} DAI\n",
    "**Collateral**: {round(resp['ink']*float(resp['per']), 2)} ETH\n",
    "**Free (Max)**: {round(resp['ink']*float(resp['per']) - resp['art']/(0.6665585*resp['pip']), 2)} ETH\n",
    "**ETH Price**: ${round(resp['pip'], 2)}\n",
    "**Liquidation**: ${round(resp['liq_price'], 2)}\n",
    "**Ratio**: {round(100*resp['art'] / resp['tab'], 2)}%\n",
    "\"\"\""
   ]
  },
  {
   "cell_type": "code",
   "execution_count": 9,
   "metadata": {
    "ExecuteTime": {
     "end_time": "2020-02-10T06:42:37.804305Z",
     "start_time": "2020-02-10T06:42:37.800259Z"
    }
   },
   "outputs": [
    {
     "name": "stdout",
     "output_type": "stream",
     "text": [
      "\n",
      "CDP (44120) is **SAFE** 😁\n",
      "**Collateral USD**: $9500.68\n",
      "**Debt**: 3200.12 DAI\n",
      "**Available (Max)**: 3132.64 DAI\n",
      "**Collateral**: 42.36 ETH\n",
      "**Free (Max)**: 20.95 ETH\n",
      "**ETH Price**: $224.28\n",
      "**Liquidation**: $113.32\n",
      "**Ratio**: 33.68%\n",
      "\n"
     ]
    }
   ],
   "source": [
    "print(msg)"
   ]
  },
  {
   "cell_type": "code",
   "execution_count": 15,
   "metadata": {
    "ExecuteTime": {
     "end_time": "2020-02-10T08:16:59.722282Z",
     "start_time": "2020-02-10T08:16:59.335024Z"
    }
   },
   "outputs": [
    {
     "name": "stdout",
     "output_type": "stream",
     "text": [
      "\n",
      "09:16:59\n",
      "CDP (44120) is **SAFE** 😁\n",
      "**Collateral USD**: $9500.68\n",
      "**Debt**: 3200.12 DAI\n",
      "**Available (Max)**: 3132.64 DAI\n",
      "**Collateral**: 42.36 ETH\n",
      "**Free (Max)**: 20.95 ETH\n",
      "**ETH Price**: $224.28\n",
      "**Liquidation**: $113.32\n",
      "**Ratio**: 33.68%\n",
      "\n"
     ]
    }
   ],
   "source": [
    "import requests\n",
    "\n",
    "def check_cdp(cdp_no='44120'):\n",
    "    resp = requests.get(f'https://mkr.tools/api/v1/cdp/{cdp_no}').json()[0]\n",
    "    msg = f\"\"\"\n",
    "{datetime.now().strftime(\"%H:%M:%S\")}\n",
    "CDP ({resp['id']}) is {'**SAFE** 😁' if round(100*resp['art'] / resp['tab'], 2) < 66.5 else '**RISKY** 😨'}\n",
    "**Collateral USD**: ${round(resp['tab'], 2)}\n",
    "**Debt**: {round(resp['art'], 2)} DAI\n",
    "**Available (Max)**: {round(resp['tab']*0.6665585 - resp['art'], 2)} DAI\n",
    "**Collateral**: {round(resp['ink']*float(resp['per']), 2)} ETH\n",
    "**Free (Max)**: {round(resp['ink']*float(resp['per']) - resp['art']/(0.6665585*resp['pip']), 2)} ETH\n",
    "**ETH Price**: ${round(resp['pip'], 2)}\n",
    "**Liquidation**: ${round(resp['liq_price'], 2)}\n",
    "**Ratio**: {round(100*resp['art'] / resp['tab'], 2)}%\n",
    "\"\"\"\n",
    "    print(msg)\n",
    "\n",
    "check_cdp()"
   ]
  },
  {
   "cell_type": "code",
   "execution_count": 13,
   "metadata": {
    "ExecuteTime": {
     "end_time": "2020-02-10T06:48:26.313007Z",
     "start_time": "2020-02-10T06:48:25.593301Z"
    }
   },
   "outputs": [],
   "source": [
    "from datetime import datetime\n",
    "\n",
    "from apscheduler.schedulers.background import BackgroundScheduler\n",
    "from apscheduler.triggers.combining import OrTrigger\n",
    "from apscheduler.triggers.cron import CronTrigger\n",
    "import requests\n",
    "\n",
    "trigger = OrTrigger([\n",
    "   CronTrigger(hour='7', minute='30-59'),\n",
    "   CronTrigger(hour='8-22', minute='*'),\n",
    "   CronTrigger(hour='23', minute='0-30')\n",
    "])\n",
    "\n",
    "def check_cdp(cdp_no=44120):\n",
    "    try:\n",
    "        resp = requests.get(f'https://mkr.tools/api/v1/cdp/{cdp_no}').json()[0]\n",
    "        msg = f\"\"\"\n",
    "{datetime.now().strftime(\"%H:%M:%S\")}\n",
    "CDP ({resp['id']}) is {'**SAFE** 😁' if round(100*resp['art'] / resp['tab'], 2) < 66.5 else '**RISKY** 😨'}\n",
    "**Collateral USD**: ${round(resp['tab'], 2)}\n",
    "**Debt**: {round(resp['art'], 2)} DAI\n",
    "**Available (Max)**: {round(resp['tab']*0.6665585 - resp['art'], 2)} DAI\n",
    "**Collateral**: {round(resp['ink']*float(resp['per']), 2)} ETH\n",
    "**Free (Max)**: {round(resp['ink']*float(resp['per']) - resp['art']/(0.6665585*resp['pip']), 2)} ETH\n",
    "**ETH Price**: ${round(resp['pip'], 2)}\n",
    "**Liquidation**: ${round(resp['liq_price'], 2)}\n",
    "**Ratio**: {round(100*resp['art'] / resp['tab'], 2)}%\n",
    "\"\"\"\n",
    "    except requests.exceptions.RequestException as e:\n",
    "        msg='Something went wrong! Caught requests.exceptions.RequestException.'\n",
    "    print(msg)\n",
    "\n",
    "sched = BackgroundScheduler()\n",
    "sched.add_job(check_cdp, trigger, [44120])\n",
    "sched.start()"
   ]
  },
  {
   "cell_type": "code",
   "execution_count": null,
   "metadata": {},
   "outputs": [],
   "source": []
  }
 ],
 "metadata": {
  "hide_input": false,
  "kernelspec": {
   "display_name": "Python 3",
   "language": "python",
   "name": "python3"
  },
  "language_info": {
   "codemirror_mode": {
    "name": "ipython",
    "version": 3
   },
   "file_extension": ".py",
   "mimetype": "text/x-python",
   "name": "python",
   "nbconvert_exporter": "python",
   "pygments_lexer": "ipython3",
   "version": "3.7.6"
  },
  "toc": {
   "base_numbering": 1,
   "nav_menu": {},
   "number_sections": true,
   "sideBar": true,
   "skip_h1_title": false,
   "title_cell": "Table of Contents",
   "title_sidebar": "Contents",
   "toc_cell": false,
   "toc_position": {},
   "toc_section_display": true,
   "toc_window_display": false
  },
  "varInspector": {
   "cols": {
    "lenName": 16,
    "lenType": 16,
    "lenVar": 40
   },
   "kernels_config": {
    "python": {
     "delete_cmd_postfix": "",
     "delete_cmd_prefix": "del ",
     "library": "var_list.py",
     "varRefreshCmd": "print(var_dic_list())"
    },
    "r": {
     "delete_cmd_postfix": ") ",
     "delete_cmd_prefix": "rm(",
     "library": "var_list.r",
     "varRefreshCmd": "cat(var_dic_list()) "
    }
   },
   "types_to_exclude": [
    "module",
    "function",
    "builtin_function_or_method",
    "instance",
    "_Feature"
   ],
   "window_display": false
  }
 },
 "nbformat": 4,
 "nbformat_minor": 2
}
